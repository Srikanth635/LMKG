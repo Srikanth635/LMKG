{
 "cells": [
  {
   "cell_type": "code",
   "id": "initial_id",
   "metadata": {
    "collapsed": true,
    "ExecuteTime": {
     "end_time": "2025-08-14T08:41:09.014859Z",
     "start_time": "2025-08-14T08:41:07.877757Z"
    }
   },
   "source": "import instructor",
   "outputs": [
    {
     "name": "stderr",
     "output_type": "stream",
     "text": [
      "/home/malineni/envs/hometesting/lib/python3.11/site-packages/tqdm/auto.py:21: TqdmWarning: IProgress not found. Please update jupyter and ipywidgets. See https://ipywidgets.readthedocs.io/en/stable/user_install.html\n",
      "  from .autonotebook import tqdm as notebook_tqdm\n"
     ]
    }
   ],
   "execution_count": 1
  },
  {
   "metadata": {
    "ExecuteTime": {
     "end_time": "2025-08-14T08:51:10.300816Z",
     "start_time": "2025-08-14T08:51:10.287346Z"
    }
   },
   "cell_type": "code",
   "source": "client = instructor.from_provider(\"ollama/qwen3:14b\")",
   "id": "b8721816994259d3",
   "outputs": [],
   "execution_count": 9
  },
  {
   "metadata": {
    "ExecuteTime": {
     "end_time": "2025-08-14T08:43:20.229013Z",
     "start_time": "2025-08-14T08:43:20.224Z"
    }
   },
   "cell_type": "code",
   "source": [
    "from typing import List\n",
    "from pydantic import BaseModel\n",
    "\n",
    "class Address(BaseModel):\n",
    "    street: str\n",
    "    city: str\n",
    "    country: str\n",
    "\n",
    "\n",
    "class User(BaseModel):\n",
    "    name: str\n",
    "    age: int\n",
    "    addresses: List[Address]"
   ],
   "id": "f0456ec0c47e58d2",
   "outputs": [],
   "execution_count": 4
  },
  {
   "metadata": {
    "ExecuteTime": {
     "end_time": "2025-08-14T08:44:35.507095Z",
     "start_time": "2025-08-14T08:44:28.980061Z"
    }
   },
   "cell_type": "code",
   "source": [
    "user = client.chat.completions.create(\n",
    "    response_model=User,\n",
    "    messages=[{\"role\": \"user\", \"content\": \"...\"}],\n",
    ")"
   ],
   "id": "27a2eb9f1f81d4c3",
   "outputs": [],
   "execution_count": 5
  },
  {
   "metadata": {
    "ExecuteTime": {
     "end_time": "2025-08-14T08:44:39.325541Z",
     "start_time": "2025-08-14T08:44:39.321854Z"
    }
   },
   "cell_type": "code",
   "source": "user",
   "id": "c321a6249755899",
   "outputs": [
    {
     "data": {
      "text/plain": [
       "User(name='John Doe', age=30, addresses=[Address(street='123 Main St', city='New York', country='USA'), Address(street='456 Oak Ave', city='Los Angeles', country='USA')])"
      ]
     },
     "execution_count": 6,
     "metadata": {},
     "output_type": "execute_result"
    }
   ],
   "execution_count": 6
  },
  {
   "metadata": {
    "ExecuteTime": {
     "end_time": "2025-08-14T08:51:13.927519Z",
     "start_time": "2025-08-14T08:51:13.924330Z"
    }
   },
   "cell_type": "code",
   "source": "from soma_object_analysis.models import *",
   "id": "457f32dcecc22e69",
   "outputs": [],
   "execution_count": 10
  },
  {
   "metadata": {
    "ExecuteTime": {
     "end_time": "2025-08-14T08:52:20.042654Z",
     "start_time": "2025-08-14T08:51:15.384611Z"
    }
   },
   "cell_type": "code",
   "source": [
    "od = client.chat.completions.create(\n",
    "    response_model=ObjectDescription,\n",
    "    messages=[\n",
    "        {\"role\": \"system\", \"content\": \"Use your semantic knowledge to elicit all the relevant information needed\"},\n",
    "        {\"role\": \"user\", \"content\": \"pick up the blue mug\"}],\n",
    "    max_retries=3\n",
    ")"
   ],
   "id": "c8b5ca60aeea74b4",
   "outputs": [
    {
     "ename": "InstructorRetryException",
     "evalue": "Instructor does not support multiple tool calls, use List[Model] instead",
     "output_type": "error",
     "traceback": [
      "\u001B[31m---------------------------------------------------------------------------\u001B[39m",
      "\u001B[31mAssertionError\u001B[39m                            Traceback (most recent call last)",
      "\u001B[36mFile \u001B[39m\u001B[32m~/envs/hometesting/lib/python3.11/site-packages/instructor/retry.py:192\u001B[39m, in \u001B[36mretry_sync\u001B[39m\u001B[34m(func, response_model, args, kwargs, context, max_retries, strict, mode, hooks)\u001B[39m\n\u001B[32m    188\u001B[39m     response = update_total_usage(\n\u001B[32m    189\u001B[39m         response=response, total_usage=total_usage\n\u001B[32m    190\u001B[39m     )\n\u001B[32m--> \u001B[39m\u001B[32m192\u001B[39m     \u001B[38;5;28;01mreturn\u001B[39;00m \u001B[43mprocess_response\u001B[49m\u001B[43m(\u001B[49m\u001B[43m  \u001B[49m\u001B[38;5;66;43;03m# type: ignore\u001B[39;49;00m\n\u001B[32m    193\u001B[39m \u001B[43m        \u001B[49m\u001B[43mresponse\u001B[49m\u001B[43m=\u001B[49m\u001B[43mresponse\u001B[49m\u001B[43m,\u001B[49m\n\u001B[32m    194\u001B[39m \u001B[43m        \u001B[49m\u001B[43mresponse_model\u001B[49m\u001B[43m=\u001B[49m\u001B[43mresponse_model\u001B[49m\u001B[43m,\u001B[49m\n\u001B[32m    195\u001B[39m \u001B[43m        \u001B[49m\u001B[43mvalidation_context\u001B[49m\u001B[43m=\u001B[49m\u001B[43mcontext\u001B[49m\u001B[43m,\u001B[49m\n\u001B[32m    196\u001B[39m \u001B[43m        \u001B[49m\u001B[43mstrict\u001B[49m\u001B[43m=\u001B[49m\u001B[43mstrict\u001B[49m\u001B[43m,\u001B[49m\n\u001B[32m    197\u001B[39m \u001B[43m        \u001B[49m\u001B[43mmode\u001B[49m\u001B[43m=\u001B[49m\u001B[43mmode\u001B[49m\u001B[43m,\u001B[49m\n\u001B[32m    198\u001B[39m \u001B[43m        \u001B[49m\u001B[43mstream\u001B[49m\u001B[43m=\u001B[49m\u001B[43mstream\u001B[49m\u001B[43m,\u001B[49m\n\u001B[32m    199\u001B[39m \u001B[43m    \u001B[49m\u001B[43m)\u001B[49m\n\u001B[32m    200\u001B[39m \u001B[38;5;28;01mexcept\u001B[39;00m (ValidationError, JSONDecodeError) \u001B[38;5;28;01mas\u001B[39;00m e:\n",
      "\u001B[36mFile \u001B[39m\u001B[32m~/envs/hometesting/lib/python3.11/site-packages/instructor/process_response.py:174\u001B[39m, in \u001B[36mprocess_response\u001B[39m\u001B[34m(response, response_model, stream, validation_context, strict, mode)\u001B[39m\n\u001B[32m    172\u001B[39m     \u001B[38;5;28;01mreturn\u001B[39;00m model\n\u001B[32m--> \u001B[39m\u001B[32m174\u001B[39m model = \u001B[43mresponse_model\u001B[49m\u001B[43m.\u001B[49m\u001B[43mfrom_response\u001B[49m\u001B[43m(\u001B[49m\n\u001B[32m    175\u001B[39m \u001B[43m    \u001B[49m\u001B[43mresponse\u001B[49m\u001B[43m,\u001B[49m\n\u001B[32m    176\u001B[39m \u001B[43m    \u001B[49m\u001B[43mvalidation_context\u001B[49m\u001B[43m=\u001B[49m\u001B[43mvalidation_context\u001B[49m\u001B[43m,\u001B[49m\n\u001B[32m    177\u001B[39m \u001B[43m    \u001B[49m\u001B[43mstrict\u001B[49m\u001B[43m=\u001B[49m\u001B[43mstrict\u001B[49m\u001B[43m,\u001B[49m\n\u001B[32m    178\u001B[39m \u001B[43m    \u001B[49m\u001B[43mmode\u001B[49m\u001B[43m=\u001B[49m\u001B[43mmode\u001B[49m\u001B[43m,\u001B[49m\n\u001B[32m    179\u001B[39m \u001B[43m\u001B[49m\u001B[43m)\u001B[49m\n\u001B[32m    181\u001B[39m \u001B[38;5;66;03m# ? This really hints at the fact that we need a better way of\u001B[39;00m\n\u001B[32m    182\u001B[39m \u001B[38;5;66;03m# ? attaching usage data and the raw response to the model we return.\u001B[39;00m\n",
      "\u001B[36mFile \u001B[39m\u001B[32m~/envs/hometesting/lib/python3.11/site-packages/instructor/function_calls.py:286\u001B[39m, in \u001B[36mOpenAISchema.from_response\u001B[39m\u001B[34m(cls, completion, validation_context, strict, mode)\u001B[39m\n\u001B[32m    279\u001B[39m \u001B[38;5;28;01mif\u001B[39;00m mode \u001B[38;5;129;01min\u001B[39;00m {\n\u001B[32m    280\u001B[39m     Mode.TOOLS,\n\u001B[32m    281\u001B[39m     Mode.MISTRAL_TOOLS,\n\u001B[32m   (...)\u001B[39m\u001B[32m    284\u001B[39m     Mode.FIREWORKS_TOOLS,\n\u001B[32m    285\u001B[39m }:\n\u001B[32m--> \u001B[39m\u001B[32m286\u001B[39m     \u001B[38;5;28;01mreturn\u001B[39;00m \u001B[38;5;28;43mcls\u001B[39;49m\u001B[43m.\u001B[49m\u001B[43mparse_tools\u001B[49m\u001B[43m(\u001B[49m\u001B[43mcompletion\u001B[49m\u001B[43m,\u001B[49m\u001B[43m \u001B[49m\u001B[43mvalidation_context\u001B[49m\u001B[43m,\u001B[49m\u001B[43m \u001B[49m\u001B[43mstrict\u001B[49m\u001B[43m)\u001B[49m\n\u001B[32m    288\u001B[39m \u001B[38;5;28;01mif\u001B[39;00m mode \u001B[38;5;129;01min\u001B[39;00m {\n\u001B[32m    289\u001B[39m     Mode.JSON,\n\u001B[32m    290\u001B[39m     Mode.JSON_SCHEMA,\n\u001B[32m   (...)\u001B[39m\u001B[32m    296\u001B[39m     Mode.OPENROUTER_STRUCTURED_OUTPUTS,\n\u001B[32m    297\u001B[39m }:\n",
      "\u001B[36mFile \u001B[39m\u001B[32m~/envs/hometesting/lib/python3.11/site-packages/instructor/function_calls.py:620\u001B[39m, in \u001B[36mOpenAISchema.parse_tools\u001B[39m\u001B[34m(cls, completion, validation_context, strict)\u001B[39m\n\u001B[32m    617\u001B[39m     \u001B[38;5;28;01massert\u001B[39;00m message.refusal \u001B[38;5;129;01mis\u001B[39;00m \u001B[38;5;28;01mNone\u001B[39;00m, (\n\u001B[32m    618\u001B[39m         \u001B[33mf\u001B[39m\u001B[33m\"\u001B[39m\u001B[33mUnable to generate a response due to \u001B[39m\u001B[38;5;132;01m{\u001B[39;00mmessage.refusal\u001B[38;5;132;01m}\u001B[39;00m\u001B[33m\"\u001B[39m\n\u001B[32m    619\u001B[39m     )\n\u001B[32m--> \u001B[39m\u001B[32m620\u001B[39m \u001B[38;5;28;01massert\u001B[39;00m \u001B[38;5;28mlen\u001B[39m(message.tool_calls \u001B[38;5;129;01mor\u001B[39;00m []) == \u001B[32m1\u001B[39m, (\n\u001B[32m    621\u001B[39m     \u001B[33mf\u001B[39m\u001B[33m\"\u001B[39m\u001B[33mInstructor does not support multiple tool calls, use List[Model] instead\u001B[39m\u001B[33m\"\u001B[39m\n\u001B[32m    622\u001B[39m )\n\u001B[32m    623\u001B[39m tool_call = message.tool_calls[\u001B[32m0\u001B[39m]  \u001B[38;5;66;03m# type: ignore\u001B[39;00m\n",
      "\u001B[31mAssertionError\u001B[39m: Instructor does not support multiple tool calls, use List[Model] instead",
      "\nThe above exception was the direct cause of the following exception:\n",
      "\u001B[31mRetryError\u001B[39m                                Traceback (most recent call last)",
      "\u001B[36mFile \u001B[39m\u001B[32m~/envs/hometesting/lib/python3.11/site-packages/instructor/retry.py:181\u001B[39m, in \u001B[36mretry_sync\u001B[39m\u001B[34m(func, response_model, args, kwargs, context, max_retries, strict, mode, hooks)\u001B[39m\n\u001B[32m    180\u001B[39m response = \u001B[38;5;28;01mNone\u001B[39;00m\n\u001B[32m--> \u001B[39m\u001B[32m181\u001B[39m \u001B[43m\u001B[49m\u001B[38;5;28;43;01mfor\u001B[39;49;00m\u001B[43m \u001B[49m\u001B[43mattempt\u001B[49m\u001B[43m \u001B[49m\u001B[38;5;129;43;01min\u001B[39;49;00m\u001B[43m \u001B[49m\u001B[43mmax_retries\u001B[49m\u001B[43m:\u001B[49m\n\u001B[32m    182\u001B[39m \u001B[43m    \u001B[49m\u001B[38;5;28;43;01mwith\u001B[39;49;00m\u001B[43m \u001B[49m\u001B[43mattempt\u001B[49m\u001B[43m:\u001B[49m\n",
      "\u001B[36mFile \u001B[39m\u001B[32m~/envs/hometesting/lib/python3.11/site-packages/tenacity/__init__.py:443\u001B[39m, in \u001B[36mBaseRetrying.__iter__\u001B[39m\u001B[34m(self)\u001B[39m\n\u001B[32m    442\u001B[39m \u001B[38;5;28;01mwhile\u001B[39;00m \u001B[38;5;28;01mTrue\u001B[39;00m:\n\u001B[32m--> \u001B[39m\u001B[32m443\u001B[39m     do = \u001B[38;5;28;43mself\u001B[39;49m\u001B[43m.\u001B[49m\u001B[43miter\u001B[49m\u001B[43m(\u001B[49m\u001B[43mretry_state\u001B[49m\u001B[43m=\u001B[49m\u001B[43mretry_state\u001B[49m\u001B[43m)\u001B[49m\n\u001B[32m    444\u001B[39m     \u001B[38;5;28;01mif\u001B[39;00m \u001B[38;5;28misinstance\u001B[39m(do, DoAttempt):\n",
      "\u001B[36mFile \u001B[39m\u001B[32m~/envs/hometesting/lib/python3.11/site-packages/tenacity/__init__.py:376\u001B[39m, in \u001B[36mBaseRetrying.iter\u001B[39m\u001B[34m(self, retry_state)\u001B[39m\n\u001B[32m    375\u001B[39m \u001B[38;5;28;01mfor\u001B[39;00m action \u001B[38;5;129;01min\u001B[39;00m \u001B[38;5;28mself\u001B[39m.iter_state.actions:\n\u001B[32m--> \u001B[39m\u001B[32m376\u001B[39m     result = \u001B[43maction\u001B[49m\u001B[43m(\u001B[49m\u001B[43mretry_state\u001B[49m\u001B[43m)\u001B[49m\n\u001B[32m    377\u001B[39m \u001B[38;5;28;01mreturn\u001B[39;00m result\n",
      "\u001B[36mFile \u001B[39m\u001B[32m~/envs/hometesting/lib/python3.11/site-packages/tenacity/__init__.py:419\u001B[39m, in \u001B[36mBaseRetrying._post_stop_check_actions.<locals>.exc_check\u001B[39m\u001B[34m(rs)\u001B[39m\n\u001B[32m    418\u001B[39m     \u001B[38;5;28;01mraise\u001B[39;00m retry_exc.reraise()\n\u001B[32m--> \u001B[39m\u001B[32m419\u001B[39m \u001B[38;5;28;01mraise\u001B[39;00m retry_exc \u001B[38;5;28;01mfrom\u001B[39;00m \u001B[34;01mfut\u001B[39;00m\u001B[34;01m.\u001B[39;00m\u001B[34;01mexception\u001B[39;00m()\n",
      "\u001B[31mRetryError\u001B[39m: RetryError[<Future at 0x7f1eb8f31310 state=finished raised AssertionError>]",
      "\nThe above exception was the direct cause of the following exception:\n",
      "\u001B[31mInstructorRetryException\u001B[39m                  Traceback (most recent call last)",
      "\u001B[36mCell\u001B[39m\u001B[36m \u001B[39m\u001B[32mIn[11]\u001B[39m\u001B[32m, line 1\u001B[39m\n\u001B[32m----> \u001B[39m\u001B[32m1\u001B[39m od = \u001B[43mclient\u001B[49m\u001B[43m.\u001B[49m\u001B[43mchat\u001B[49m\u001B[43m.\u001B[49m\u001B[43mcompletions\u001B[49m\u001B[43m.\u001B[49m\u001B[43mcreate\u001B[49m\u001B[43m(\u001B[49m\n\u001B[32m      2\u001B[39m \u001B[43m    \u001B[49m\u001B[43mresponse_model\u001B[49m\u001B[43m=\u001B[49m\u001B[43mObjectDescription\u001B[49m\u001B[43m,\u001B[49m\n\u001B[32m      3\u001B[39m \u001B[43m    \u001B[49m\u001B[43mmessages\u001B[49m\u001B[43m=\u001B[49m\u001B[43m[\u001B[49m\n\u001B[32m      4\u001B[39m \u001B[43m        \u001B[49m\u001B[43m{\u001B[49m\u001B[33;43m\"\u001B[39;49m\u001B[33;43mrole\u001B[39;49m\u001B[33;43m\"\u001B[39;49m\u001B[43m:\u001B[49m\u001B[43m \u001B[49m\u001B[33;43m\"\u001B[39;49m\u001B[33;43msystem\u001B[39;49m\u001B[33;43m\"\u001B[39;49m\u001B[43m,\u001B[49m\u001B[43m \u001B[49m\u001B[33;43m\"\u001B[39;49m\u001B[33;43mcontent\u001B[39;49m\u001B[33;43m\"\u001B[39;49m\u001B[43m:\u001B[49m\u001B[43m \u001B[49m\u001B[33;43m\"\u001B[39;49m\u001B[33;43mUse your semantic knowledge to elicit all the relevant information needed\u001B[39;49m\u001B[33;43m\"\u001B[39;49m\u001B[43m}\u001B[49m\u001B[43m,\u001B[49m\n\u001B[32m      5\u001B[39m \u001B[43m        \u001B[49m\u001B[43m{\u001B[49m\u001B[33;43m\"\u001B[39;49m\u001B[33;43mrole\u001B[39;49m\u001B[33;43m\"\u001B[39;49m\u001B[43m:\u001B[49m\u001B[43m \u001B[49m\u001B[33;43m\"\u001B[39;49m\u001B[33;43muser\u001B[39;49m\u001B[33;43m\"\u001B[39;49m\u001B[43m,\u001B[49m\u001B[43m \u001B[49m\u001B[33;43m\"\u001B[39;49m\u001B[33;43mcontent\u001B[39;49m\u001B[33;43m\"\u001B[39;49m\u001B[43m:\u001B[49m\u001B[43m \u001B[49m\u001B[33;43m\"\u001B[39;49m\u001B[33;43mpick up the blue mug\u001B[39;49m\u001B[33;43m\"\u001B[39;49m\u001B[43m}\u001B[49m\u001B[43m]\u001B[49m\u001B[43m,\u001B[49m\n\u001B[32m      6\u001B[39m \u001B[43m    \u001B[49m\u001B[43mmax_retries\u001B[49m\u001B[43m=\u001B[49m\u001B[32;43m3\u001B[39;49m\n\u001B[32m      7\u001B[39m \u001B[43m)\u001B[49m\n",
      "\u001B[36mFile \u001B[39m\u001B[32m~/envs/hometesting/lib/python3.11/site-packages/instructor/client.py:366\u001B[39m, in \u001B[36mInstructor.create\u001B[39m\u001B[34m(self, response_model, messages, max_retries, validation_context, context, strict, **kwargs)\u001B[39m\n\u001B[32m    354\u001B[39m \u001B[38;5;28;01mdef\u001B[39;00m \u001B[34mcreate\u001B[39m(\n\u001B[32m    355\u001B[39m     \u001B[38;5;28mself\u001B[39m,\n\u001B[32m    356\u001B[39m     response_model: \u001B[38;5;28mtype\u001B[39m[T] | \u001B[38;5;28;01mNone\u001B[39;00m,\n\u001B[32m   (...)\u001B[39m\u001B[32m    362\u001B[39m     **kwargs: Any,\n\u001B[32m    363\u001B[39m ) -> T | Any | Awaitable[T] | Awaitable[Any]:\n\u001B[32m    364\u001B[39m     kwargs = \u001B[38;5;28mself\u001B[39m.handle_kwargs(kwargs)\n\u001B[32m--> \u001B[39m\u001B[32m366\u001B[39m     \u001B[38;5;28;01mreturn\u001B[39;00m \u001B[38;5;28;43mself\u001B[39;49m\u001B[43m.\u001B[49m\u001B[43mcreate_fn\u001B[49m\u001B[43m(\u001B[49m\n\u001B[32m    367\u001B[39m \u001B[43m        \u001B[49m\u001B[43mresponse_model\u001B[49m\u001B[43m=\u001B[49m\u001B[43mresponse_model\u001B[49m\u001B[43m,\u001B[49m\n\u001B[32m    368\u001B[39m \u001B[43m        \u001B[49m\u001B[43mmessages\u001B[49m\u001B[43m=\u001B[49m\u001B[43mmessages\u001B[49m\u001B[43m,\u001B[49m\n\u001B[32m    369\u001B[39m \u001B[43m        \u001B[49m\u001B[43mmax_retries\u001B[49m\u001B[43m=\u001B[49m\u001B[43mmax_retries\u001B[49m\u001B[43m,\u001B[49m\n\u001B[32m    370\u001B[39m \u001B[43m        \u001B[49m\u001B[43mvalidation_context\u001B[49m\u001B[43m=\u001B[49m\u001B[43mvalidation_context\u001B[49m\u001B[43m,\u001B[49m\n\u001B[32m    371\u001B[39m \u001B[43m        \u001B[49m\u001B[43mcontext\u001B[49m\u001B[43m=\u001B[49m\u001B[43mcontext\u001B[49m\u001B[43m,\u001B[49m\n\u001B[32m    372\u001B[39m \u001B[43m        \u001B[49m\u001B[43mstrict\u001B[49m\u001B[43m=\u001B[49m\u001B[43mstrict\u001B[49m\u001B[43m,\u001B[49m\n\u001B[32m    373\u001B[39m \u001B[43m        \u001B[49m\u001B[43mhooks\u001B[49m\u001B[43m=\u001B[49m\u001B[38;5;28;43mself\u001B[39;49m\u001B[43m.\u001B[49m\u001B[43mhooks\u001B[49m\u001B[43m,\u001B[49m\n\u001B[32m    374\u001B[39m \u001B[43m        \u001B[49m\u001B[43m*\u001B[49m\u001B[43m*\u001B[49m\u001B[43mkwargs\u001B[49m\u001B[43m,\u001B[49m\n\u001B[32m    375\u001B[39m \u001B[43m    \u001B[49m\u001B[43m)\u001B[49m\n",
      "\u001B[36mFile \u001B[39m\u001B[32m~/envs/hometesting/lib/python3.11/site-packages/instructor/patch.py:258\u001B[39m, in \u001B[36mpatch.<locals>.new_create_sync\u001B[39m\u001B[34m(response_model, validation_context, context, max_retries, strict, hooks, *args, **kwargs)\u001B[39m\n\u001B[32m    255\u001B[39m     \u001B[38;5;28;01mif\u001B[39;00m obj \u001B[38;5;129;01mis\u001B[39;00m \u001B[38;5;129;01mnot\u001B[39;00m \u001B[38;5;28;01mNone\u001B[39;00m:\n\u001B[32m    256\u001B[39m         \u001B[38;5;28;01mreturn\u001B[39;00m obj  \u001B[38;5;66;03m# type: ignore[return-value]\u001B[39;00m\n\u001B[32m--> \u001B[39m\u001B[32m258\u001B[39m response = \u001B[43mretry_sync\u001B[49m\u001B[43m(\u001B[49m\n\u001B[32m    259\u001B[39m \u001B[43m    \u001B[49m\u001B[43mfunc\u001B[49m\u001B[43m=\u001B[49m\u001B[43mfunc\u001B[49m\u001B[43m,\u001B[49m\u001B[43m  \u001B[49m\u001B[38;5;66;43;03m# type: ignore\u001B[39;49;00m\n\u001B[32m    260\u001B[39m \u001B[43m    \u001B[49m\u001B[43mresponse_model\u001B[49m\u001B[43m=\u001B[49m\u001B[43mresponse_model\u001B[49m\u001B[43m,\u001B[49m\n\u001B[32m    261\u001B[39m \u001B[43m    \u001B[49m\u001B[43mcontext\u001B[49m\u001B[43m=\u001B[49m\u001B[43mcontext\u001B[49m\u001B[43m,\u001B[49m\n\u001B[32m    262\u001B[39m \u001B[43m    \u001B[49m\u001B[43mmax_retries\u001B[49m\u001B[43m=\u001B[49m\u001B[43mmax_retries\u001B[49m\u001B[43m,\u001B[49m\n\u001B[32m    263\u001B[39m \u001B[43m    \u001B[49m\u001B[43margs\u001B[49m\u001B[43m=\u001B[49m\u001B[43margs\u001B[49m\u001B[43m,\u001B[49m\n\u001B[32m    264\u001B[39m \u001B[43m    \u001B[49m\u001B[43mhooks\u001B[49m\u001B[43m=\u001B[49m\u001B[43mhooks\u001B[49m\u001B[43m,\u001B[49m\n\u001B[32m    265\u001B[39m \u001B[43m    \u001B[49m\u001B[43mstrict\u001B[49m\u001B[43m=\u001B[49m\u001B[43mstrict\u001B[49m\u001B[43m,\u001B[49m\n\u001B[32m    266\u001B[39m \u001B[43m    \u001B[49m\u001B[43mkwargs\u001B[49m\u001B[43m=\u001B[49m\u001B[43mnew_kwargs\u001B[49m\u001B[43m,\u001B[49m\n\u001B[32m    267\u001B[39m \u001B[43m    \u001B[49m\u001B[43mmode\u001B[49m\u001B[43m=\u001B[49m\u001B[43mmode\u001B[49m\u001B[43m,\u001B[49m\n\u001B[32m    268\u001B[39m \u001B[43m\u001B[49m\u001B[43m)\u001B[49m\n\u001B[32m    270\u001B[39m \u001B[38;5;66;03m# Save to cache\u001B[39;00m\n\u001B[32m    271\u001B[39m \u001B[38;5;28;01mif\u001B[39;00m cache \u001B[38;5;129;01mis\u001B[39;00m \u001B[38;5;129;01mnot\u001B[39;00m \u001B[38;5;28;01mNone\u001B[39;00m \u001B[38;5;129;01mand\u001B[39;00m response_model \u001B[38;5;129;01mis\u001B[39;00m \u001B[38;5;129;01mnot\u001B[39;00m \u001B[38;5;28;01mNone\u001B[39;00m:\n",
      "\u001B[36mFile \u001B[39m\u001B[32m~/envs/hometesting/lib/python3.11/site-packages/instructor/retry.py:212\u001B[39m, in \u001B[36mretry_sync\u001B[39m\u001B[34m(func, response_model, args, kwargs, context, max_retries, strict, mode, hooks)\u001B[39m\n\u001B[32m    210\u001B[39m \u001B[38;5;28;01mexcept\u001B[39;00m RetryError \u001B[38;5;28;01mas\u001B[39;00m e:\n\u001B[32m    211\u001B[39m     logger.debug(\u001B[33mf\u001B[39m\u001B[33m\"\u001B[39m\u001B[33mRetry error: \u001B[39m\u001B[38;5;132;01m{\u001B[39;00me\u001B[38;5;132;01m}\u001B[39;00m\u001B[33m\"\u001B[39m)\n\u001B[32m--> \u001B[39m\u001B[32m212\u001B[39m     \u001B[38;5;28;01mraise\u001B[39;00m InstructorRetryException(\n\u001B[32m    213\u001B[39m         e.last_attempt._exception,\n\u001B[32m    214\u001B[39m         last_completion=response,\n\u001B[32m    215\u001B[39m         n_attempts=attempt.retry_state.attempt_number,\n\u001B[32m    216\u001B[39m         \u001B[38;5;66;03m#! deprecate messages soon\u001B[39;00m\n\u001B[32m    217\u001B[39m         messages=extract_messages(\n\u001B[32m    218\u001B[39m             kwargs\n\u001B[32m    219\u001B[39m         ),  \u001B[38;5;66;03m# Use the optimized function instead of nested lookups\u001B[39;00m\n\u001B[32m    220\u001B[39m         create_kwargs=kwargs,\n\u001B[32m    221\u001B[39m         total_usage=total_usage,\n\u001B[32m    222\u001B[39m     ) \u001B[38;5;28;01mfrom\u001B[39;00m \u001B[34;01me\u001B[39;00m\n",
      "\u001B[31mInstructorRetryException\u001B[39m: Instructor does not support multiple tool calls, use List[Model] instead"
     ]
    }
   ],
   "execution_count": 11
  },
  {
   "metadata": {},
   "cell_type": "code",
   "outputs": [],
   "execution_count": null,
   "source": "",
   "id": "b708d7ccc61d5735"
  }
 ],
 "metadata": {
  "kernelspec": {
   "display_name": "Python 3",
   "language": "python",
   "name": "python3"
  },
  "language_info": {
   "codemirror_mode": {
    "name": "ipython",
    "version": 2
   },
   "file_extension": ".py",
   "mimetype": "text/x-python",
   "name": "python",
   "nbconvert_exporter": "python",
   "pygments_lexer": "ipython2",
   "version": "2.7.6"
  }
 },
 "nbformat": 4,
 "nbformat_minor": 5
}
